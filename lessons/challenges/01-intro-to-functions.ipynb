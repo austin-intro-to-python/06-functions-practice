{
 "cells": [
  {
   "cell_type": "markdown",
   "metadata": {},
   "source": [
    "# ![](https://ga-dash.s3.amazonaws.com/production/assets/logo-9f88ae6c9c3871690e33280fcf557f33.png) Unit 3 | Functions\n",
    "\n",
    "\n",
    "### LEARNING OBJECTIVES\n",
    "\n",
    "\n",
    "We've gone over quite a bit of Python so far: variables (numeric, string, list, dict, etc.) and used them to build statements (for, if, while). We want to use control flow, iteration, etc. as building blocks to build up to something far more powerful. This is where **functions** come into play.\n",
    "\n",
    "*After this lesson, you will be able to:*\n",
    "- Review basic programming concepts (control flow, iteration, datatypes)\n",
    "- Create functions"
   ]
  },
  {
   "cell_type": "markdown",
   "metadata": {},
   "source": [
    "### Functions\n",
    "\n",
    "With functions, we can use what we've learned before to scale up immensely.\n",
    "\n",
    "---\n",
    "\n",
    "Remember that functions:\n",
    "- start with `def`, followed by the name of the function.\n",
    "- take inputs (or arguments).\n",
    "- return outputs.\n",
    "- use `return` instead of `print`.\n",
    "- are used frequently to make coding more efficient."
   ]
  },
  {
   "cell_type": "markdown",
   "metadata": {},
   "source": [
    "Let's write a function together. In the cell below, I want to write a function called `addition()` that takes in two numbers, $a$ and $b$, adds them together, and returns their sum."
   ]
  },
  {
   "cell_type": "code",
   "execution_count": null,
   "metadata": {},
   "outputs": [],
   "source": [
    "# Let's define our function\n"
   ]
  },
  {
   "cell_type": "code",
   "execution_count": null,
   "metadata": {},
   "outputs": [],
   "source": [
    "# Let's use our function\n"
   ]
  },
  {
   "cell_type": "code",
   "execution_count": null,
   "metadata": {},
   "outputs": [],
   "source": [
    "# Reusability:\n"
   ]
  },
  {
   "cell_type": "code",
   "execution_count": null,
   "metadata": {},
   "outputs": [],
   "source": [
    "# Reuse with 3 args:\n"
   ]
  },
  {
   "cell_type": "code",
   "execution_count": null,
   "metadata": {},
   "outputs": [],
   "source": [
    "# Suppose we wanted to test whether our function could properly add 3 and 5. \n",
    "# What code would we need to run to do that?\n"
   ]
  },
  {
   "cell_type": "code",
   "execution_count": null,
   "metadata": {},
   "outputs": [],
   "source": [
    "# How about 4 and 12? \n"
   ]
  },
  {
   "cell_type": "markdown",
   "metadata": {},
   "source": [
    "When working with functions, we really only care about the **structure** of the function. For example, we can write a function that does the exact same thing, but with different arguments and a different name.\n",
    "\n",
    "Take a minute and practice that now on your own by creating a function that still adds two numbers and returns their sum, but that has a different name and different arguments."
   ]
  },
  {
   "cell_type": "code",
   "execution_count": null,
   "metadata": {},
   "outputs": [],
   "source": []
  },
  {
   "cell_type": "code",
   "execution_count": null,
   "metadata": {},
   "outputs": [],
   "source": []
  },
  {
   "cell_type": "markdown",
   "metadata": {},
   "source": [
    "If the names of functions or arguments don't affect functionality, are there best practices with how we name functions and arguments?"
   ]
  },
  {
   "cell_type": "markdown",
   "metadata": {},
   "source": [
    "There's no official standard across all of programming. However, you should use what makes sense! - As you build projects, you may have hundreds of functions running. Keeping the functions and their arguments straight is important... so pick names that are memorable. - If there is a standard practice at your office or in your field, use that. When collaborating on projects, it's important to be consistent. - Use \"\"\"docstrings\"\"\" and #comments to your advantage (and the advantage of your teammates)!"
   ]
  },
  {
   "cell_type": "markdown",
   "metadata": {
    "collapsed": true
   },
   "source": [
    "In the function we wrote above, we saved `result` as a variable, meaning this is stored in our computer and occupies some memory. As we work with larger data sets and more complicated functions, we might run into issues with memory. While it's not a major issue now, we'll often want to find ways to use less memory."
   ]
  },
  {
   "cell_type": "code",
   "execution_count": null,
   "metadata": {},
   "outputs": [],
   "source": []
  },
  {
   "cell_type": "code",
   "execution_count": null,
   "metadata": {},
   "outputs": [],
   "source": []
  },
  {
   "cell_type": "markdown",
   "metadata": {},
   "source": [
    "Given how we've written `addition()` so far, let's try to break it. \n",
    "- By \"break the function,\" I mean that you might get an error or something unexpected.\n",
    "\n",
    "Take two minutes and, by only changing the inputs, try to break the function."
   ]
  },
  {
   "cell_type": "code",
   "execution_count": null,
   "metadata": {},
   "outputs": [],
   "source": []
  },
  {
   "cell_type": "markdown",
   "metadata": {},
   "source": [
    "Now that we've broken our `addition()` function, let's try to avoid some of those issues."
   ]
  },
  {
   "cell_type": "code",
   "execution_count": null,
   "metadata": {},
   "outputs": [],
   "source": []
  },
  {
   "cell_type": "markdown",
   "metadata": {},
   "source": [
    "Let's create a new function called `addition_list()` where the input is a list of numbers (any length) and the output is the sum of the numbers in that list.\n",
    "\n",
    "Take five minutes and write this function. Be sure to test the output, try to break it, and work to fix what you broke. You're welcome to work by yourself or with a partner if you'd like!\n",
    "\n",
    "We'll share a response from each market in five minutes."
   ]
  },
  {
   "cell_type": "code",
   "execution_count": null,
   "metadata": {},
   "outputs": [],
   "source": []
  },
  {
   "cell_type": "code",
   "execution_count": null,
   "metadata": {},
   "outputs": [],
   "source": [
    "# Write a function that returns the length of every word in a list\n",
    "# Post this in slack"
   ]
  },
  {
   "cell_type": "code",
   "execution_count": null,
   "metadata": {},
   "outputs": [],
   "source": []
  },
  {
   "cell_type": "code",
   "execution_count": null,
   "metadata": {},
   "outputs": [],
   "source": []
  }
 ],
 "metadata": {
  "kernelspec": {
   "display_name": "Python 3 (ipykernel)",
   "language": "python",
   "name": "python3"
  },
  "language_info": {
   "codemirror_mode": {
    "name": "ipython",
    "version": 3
   },
   "file_extension": ".py",
   "mimetype": "text/x-python",
   "name": "python",
   "nbconvert_exporter": "python",
   "pygments_lexer": "ipython3",
   "version": "3.9.7"
  }
 },
 "nbformat": 4,
 "nbformat_minor": 2
}
