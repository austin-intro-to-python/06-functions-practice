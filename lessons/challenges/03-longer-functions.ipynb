{
 "cells": [
  {
   "cell_type": "markdown",
   "metadata": {},
   "source": [
    "## Compiling short functions into a single, long function"
   ]
  },
  {
   "cell_type": "code",
   "execution_count": 1,
   "metadata": {},
   "outputs": [],
   "source": [
    "# Create a variable called search_or_ratings, set to 1.\n",
    "# You should be able to change this between 1, 2, and 3 to change what your program prints.\n"
   ]
  },
  {
   "cell_type": "code",
   "execution_count": 2,
   "metadata": {},
   "outputs": [],
   "source": [
    "# Create a variable `movie_title` and set it to \"Back to the Future\".\n"
   ]
  },
  {
   "cell_type": "code",
   "execution_count": 3,
   "metadata": {},
   "outputs": [],
   "source": [
    "# Create a variable `movie rating` to hold the rating and set it to `8`.\n"
   ]
  },
  {
   "cell_type": "markdown",
   "metadata": {},
   "source": [
    "### Let's write some functions!"
   ]
  },
  {
   "cell_type": "code",
   "execution_count": 4,
   "metadata": {},
   "outputs": [],
   "source": [
    "# Loop through list of titles and print them (indented with 4 spaces).\n"
   ]
  },
  {
   "cell_type": "code",
   "execution_count": 5,
   "metadata": {},
   "outputs": [
    {
     "name": "stdout",
     "output_type": "stream",
     "text": [
      "    Back to the F\n",
      "    Endgame\n",
      "    Finding Nemo\n"
     ]
    }
   ],
   "source": []
  },
  {
   "cell_type": "code",
   "execution_count": 6,
   "metadata": {},
   "outputs": [],
   "source": [
    "# Print the movie title.\n"
   ]
  },
  {
   "cell_type": "code",
   "execution_count": 8,
   "metadata": {},
   "outputs": [],
   "source": [
    "# Print the movie rating\n"
   ]
  },
  {
   "cell_type": "code",
   "execution_count": 9,
   "metadata": {},
   "outputs": [],
   "source": [
    "# Print the whole formatted string\n"
   ]
  },
  {
   "cell_type": "code",
   "execution_count": 10,
   "metadata": {},
   "outputs": [],
   "source": [
    "# Print all great ratings for a movie list\n"
   ]
  },
  {
   "cell_type": "code",
   "execution_count": 12,
   "metadata": {},
   "outputs": [],
   "source": [
    "# Create one main function which will call everything else\n",
    "def main_func():\n",
    "\n",
    "    # A hard coded movie list to test with.\n",
    "    default_list=['Back to the F', \"Endgame\", 'Finding Nemo']\n",
    "    # Let's test: Call a print_all_ratings function and pass it the default_movie_list as a parameter\n",
    "    print_all_rating(default_list)\n",
    "    # If search_or_ratings is 1, call list_search_results().\n",
    "    if search_or_ratings==1:        \n",
    "        list_search_results(default_list)\n",
    "        # If search_or_ratings is 2, call print_movie_rating().\n",
    "    if search_or_ratings==2:  \n",
    "        print_movie_rating()\n",
    "        # If search_or_ratings is 3, call print_single_movie_rating()\n",
    "    if search_or_ratings==3:\n",
    "        print_single_movie_rating()"
   ]
  },
  {
   "cell_type": "code",
   "execution_count": null,
   "metadata": {},
   "outputs": [],
   "source": []
  }
 ],
 "metadata": {
  "kernelspec": {
   "display_name": "Python 3",
   "language": "python",
   "name": "python3"
  },
  "language_info": {
   "codemirror_mode": {
    "name": "ipython",
    "version": 3
   },
   "file_extension": ".py",
   "mimetype": "text/x-python",
   "name": "python",
   "nbconvert_exporter": "python",
   "pygments_lexer": "ipython3",
   "version": "3.7.3"
  }
 },
 "nbformat": 4,
 "nbformat_minor": 2
}
