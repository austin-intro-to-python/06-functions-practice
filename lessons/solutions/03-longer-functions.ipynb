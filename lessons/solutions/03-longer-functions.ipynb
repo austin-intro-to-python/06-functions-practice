{
 "cells": [
  {
   "cell_type": "markdown",
   "metadata": {},
   "source": [
    "## Compiling short functions into a single, long function"
   ]
  },
  {
   "cell_type": "code",
   "execution_count": null,
   "metadata": {},
   "outputs": [],
   "source": [
    "# Create a variable called search_or_ratings, set to 1.\n",
    "# You should be able to change this between 1, 2, and 3 to change what your program prints.\n",
    "search_or_ratings = 3"
   ]
  },
  {
   "cell_type": "code",
   "execution_count": null,
   "metadata": {},
   "outputs": [],
   "source": [
    "# Create a variable `movie_title` and set it to \"Back to the Future\".\n",
    "movie_title = \"Back to the Future\""
   ]
  },
  {
   "cell_type": "code",
   "execution_count": null,
   "metadata": {},
   "outputs": [],
   "source": [
    "# Create a variable `movie rating` to hold the rating and set it to `8`.\n",
    "movie_rating = 8"
   ]
  },
  {
   "cell_type": "markdown",
   "metadata": {},
   "source": [
    "### Let's write some functions!"
   ]
  },
  {
   "cell_type": "code",
   "execution_count": null,
   "metadata": {},
   "outputs": [],
   "source": [
    "# Loop through list of titles and print them (indented with 4 spaces).\n",
    "def list_search_results(movie_titles):\n",
    "    for title in movie_titles:\n",
    "        print(\"    \" + title)"
   ]
  },
  {
   "cell_type": "code",
   "execution_count": null,
   "metadata": {},
   "outputs": [],
   "source": [
    "# Print the movie title.\n",
    "def print_movie_title():\n",
    "    print(movie_title)"
   ]
  },
  {
   "cell_type": "code",
   "execution_count": null,
   "metadata": {},
   "outputs": [],
   "source": [
    "# Print the movie rating\n",
    "def print_movie_rating():\n",
    "    print(movie_rating)"
   ]
  },
  {
   "cell_type": "code",
   "execution_count": null,
   "metadata": {},
   "outputs": [],
   "source": [
    "# Print the whole formatted string\n",
    "def print_single_movie_rating():\n",
    "    print(\"The rating for\", movie_title, \"is\", movie_rating)"
   ]
  },
  {
   "cell_type": "code",
   "execution_count": null,
   "metadata": {},
   "outputs": [],
   "source": [
    "# Print all great ratings for a movie list\n",
    "def print_all_ratings(movie_list):\n",
    "    for movie in movie_list:\n",
    "        print(\"The movie\", movie, \"has a great rating!\")"
   ]
  },
  {
   "cell_type": "code",
   "execution_count": null,
   "metadata": {},
   "outputs": [],
   "source": [
    "# Create one main function which will call everything else\n",
    "def main():\n",
    "\n",
    "    # A hard coded movie list to test with.\n",
    "    default_movie_list = [\"Back to the Future\", \"Blade\", \"Spirited Away\"]\n",
    "\n",
    "    # Let's test: Call a print_all_ratings function and pass it the default_movie_list as a parameter\n",
    "    print_all_ratings(default_movie_list)\n",
    "\n",
    "    if search_or_ratings == 1:\n",
    "        # If search_or_ratings is 1, call list_search_results().\n",
    "        list_search_results(default_movie_list)\n",
    "    elif search_or_ratings == 2:\n",
    "        # If search_or_ratings is 2, call print_movie_rating().\n",
    "        print_movie_rating()\n",
    "    else:\n",
    "        # If search_or_ratings is 3, call print_single_movie_rating()\n",
    "        print_single_movie_rating()"
   ]
  }
 ],
 "metadata": {
  "kernelspec": {
   "display_name": "Python 3",
   "language": "python",
   "name": "python3"
  },
  "language_info": {
   "codemirror_mode": {
    "name": "ipython",
    "version": 3
   },
   "file_extension": ".py",
   "mimetype": "text/x-python",
   "name": "python",
   "nbconvert_exporter": "python",
   "pygments_lexer": "ipython3",
   "version": "3.7.3"
  }
 },
 "nbformat": 4,
 "nbformat_minor": 2
}
