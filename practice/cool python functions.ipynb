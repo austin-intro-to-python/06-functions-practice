{
 "cells": [
  {
   "cell_type": "markdown",
   "metadata": {},
   "source": [
    "## Make a pyramid"
   ]
  },
  {
   "cell_type": "code",
   "execution_count": 3,
   "metadata": {},
   "outputs": [],
   "source": [
    "# define the function\n",
    "def pyramid_maker(top):\n",
    "    for row_num in range(1,top):\n",
    "        print(' '.join(' ' if index_num > row_num else str(index_num)  for index_num in range (top, 1, -1)),\n",
    "              ' '.join(' ' if index_num > row_num else str(index_num) for index_num in range(1,top) ))"
   ]
  },
  {
   "cell_type": "code",
   "execution_count": 48,
   "metadata": {},
   "outputs": [
    {
     "name": "stdout",
     "output_type": "stream",
     "text": [
      "                  1                \n",
      "                2 1 2              \n",
      "              3 2 1 2 3            \n",
      "            4 3 2 1 2 3 4          \n",
      "          5 4 3 2 1 2 3 4 5        \n",
      "        6 5 4 3 2 1 2 3 4 5 6      \n",
      "      7 6 5 4 3 2 1 2 3 4 5 6 7    \n",
      "    8 7 6 5 4 3 2 1 2 3 4 5 6 7 8  \n",
      "  9 8 7 6 5 4 3 2 1 2 3 4 5 6 7 8 9\n"
     ]
    }
   ],
   "source": [
    "# invoke the function\n",
    "pyramid_maker(10)"
   ]
  },
  {
   "cell_type": "markdown",
   "metadata": {},
   "source": [
    "## Palindrome maker"
   ]
  },
  {
   "cell_type": "code",
   "execution_count": null,
   "metadata": {},
   "outputs": [],
   "source": [
    "# define the function\n",
    "suggestions = [\n",
    "                \"racecar\",\n",
    "                \"tacocat\",\n",
    "                \"deified\",\n",
    "                \"radar\",\n",
    "                \"a nut for a jar of tuna\",\n",
    "                \"Madame, I'm Adam\",\n",
    "                \"A man, a plan, a canal: Panama\",\n",
    "                \"Go hang a salami, I'm a salami hog\",\n",
    "                \"God, Nate bit a Tibetan Dog\",\n",
    "                \"Nurse, I spy gypsies, run!\",\n",
    "                \"Golf? No sir, prefer prison flog\",\n",
    "                \"Doc, note, I dissent. A fast never prevents a fatness. I diet on cod\"]\n",
    "\n",
    "def palindrome_maker():\n",
    "    import numpy as np\n",
    "    print (np.random.choice(suggestions))\n",
    "    x = input()\n",
    "    print(x[::-1])"
   ]
  },
  {
   "cell_type": "code",
   "execution_count": null,
   "metadata": {},
   "outputs": [],
   "source": [
    "# invoke the function\n",
    "palindrome_maker()"
   ]
  },
  {
   "cell_type": "markdown",
   "metadata": {},
   "source": [
    "## Antigravity"
   ]
  },
  {
   "cell_type": "code",
   "execution_count": 9,
   "metadata": {},
   "outputs": [],
   "source": [
    "# define the function\n",
    "def antigravity():\n",
    "    import antigravity"
   ]
  },
  {
   "cell_type": "code",
   "execution_count": 10,
   "metadata": {},
   "outputs": [],
   "source": [
    "# invoke the function\n",
    "antigravity()"
   ]
  },
  {
   "cell_type": "markdown",
   "metadata": {},
   "source": [
    "## Spiral"
   ]
  },
  {
   "cell_type": "code",
   "execution_count": 32,
   "metadata": {},
   "outputs": [],
   "source": [
    "# define the function\n",
    "def spiral_maker(size):\n",
    "    '''\n",
    "    Expects a size parameter\n",
    "    Returns a spiral and saves as an image\n",
    "    '''\n",
    "    import matplotlib.pyplot as plt\n",
    "    from math import cos, sin, pi\n",
    "    import numpy as np\n",
    "    from numpy import linspace\n",
    "\n",
    "    theta = np.radians(np.linspace(0,360*5,size))\n",
    "    r = theta**2\n",
    "    x_2 = r*np.cos(theta)\n",
    "    y_2 = r*np.sin(theta)\n",
    "    plt.figure(figsize=[7,6])\n",
    "    plt.plot(x_2,y_2)\n",
    "    plt.savefig(\"spiral.png\")\n",
    "    plt.show()"
   ]
  },
  {
   "cell_type": "code",
   "execution_count": 33,
   "metadata": {},
   "outputs": [
    {
     "data": {
      "image/png": "[encoded data removed]",
      "text/plain": [
       "<Figure size 504x432 with 1 Axes>"
      ]
     },
     "metadata": {
      "needs_background": "light"
     },
     "output_type": "display_data"
    }
   ],
   "source": [
    "# invoke the function\n",
    "spiral_maker(20)"
   ]
  },
  {
   "cell_type": "markdown",
   "metadata": {},
   "source": [
    "## Batman\n",
    "Source: https://medium.com/@subarnopal/plotting-the-batman-equation-in-python-using-numpy-and-matplotlib-b209b02aed68"
   ]
  },
  {
   "cell_type": "code",
   "execution_count": 34,
   "metadata": {},
   "outputs": [],
   "source": [
    "def batman_maker(color_a, color_b, color_c):\n",
    "    '''\n",
    "    Expects 3 values ranging between 0-1 (RGB codes)\n",
    "    Returns the Batman logo with background color \n",
    "    and saves as an image\n",
    "    '''\n",
    "    \n",
    "    import math\n",
    "    import numpy as np\n",
    "    import matplotlib.pyplot as plt\n",
    "\n",
    "    Y = np.arange(-4,4,.005)\n",
    "    X = np.zeros((0))\n",
    "    for y in Y:\n",
    "        X = np.append(X,abs(y/2)- 0.09137*y**2 + math.sqrt(1-(abs(abs(y)-2)-1)**2) -3)\n",
    "\n",
    "    Y1 = np.append(np.arange(-7,-3,.01), np.arange(3,7,.01))\n",
    "    X1 = np.zeros((0))\n",
    "    for y in Y1:\n",
    "        X1 = np.append(X1, 3*math.sqrt(-(y/7)**2+1))\n",
    "    X = np.append(X,X1)\n",
    "    Y = np.append(Y, Y1)\n",
    "    Y1 = np.append(np.arange(-7.,-4,.01), np.arange(4,7.01,.01))\n",
    "    X1 = np.zeros((0))\n",
    "    for y in Y1:\n",
    "        X1 = np.append(X1, -3*math.sqrt(-(y/7)**2+1))\n",
    "    X = np.append(X,X1)\n",
    "    Y = np.append(Y, Y1)\n",
    "    Y1 = np.append(np.arange(-1,-.8,.01), np.arange(.8, 1,.01))\n",
    "    X1 = np.zeros((0))\n",
    "    for y in Y1:\n",
    "        X1 = np.append(X1, 9-8*abs(y))\n",
    "    X = np.append(X,X1)\n",
    "    Y = np.append(Y, Y1)\n",
    "    Y1 = np.arange(-.5,.5,.05)\n",
    "    X1 = np.zeros((0))\n",
    "    for y in Y1:\n",
    "        X1 = np.append(X1,2)\n",
    "    X = np.append(X,X1)\n",
    "    Y = np.append(Y, Y1)\n",
    "    Y1 = np.append(np.arange(-2.9,-1,.01), np.arange(1, 2.9,.01))\n",
    "    X1 = np.zeros((0))\n",
    "    for y in Y1:\n",
    "        X1 = np.append(X1, 1.5 - .5*abs(y) - 1.89736*(math.sqrt(3-y**2+2*abs(y))-2) )\n",
    "    X = np.append(X,X1)\n",
    "    Y = np.append(Y, Y1)\n",
    "    Y1 = np.append(np.arange(-.7,-.45,.01), np.arange(.45, .7,.01))\n",
    "    X1 = np.zeros((0))\n",
    "    for y in Y1:\n",
    "        X1 = np.append(X1, 3*abs(y)+.75)\n",
    "    X = np.append(X,X1)\n",
    "    Y = np.append(Y, Y1)\n",
    "\n",
    "    ax = plt.gca()\n",
    "    ax.set_facecolor((color_a, color_b, color_c))\n",
    "    plt.plot(Y,X, 'yo')\n",
    "    ax.set_yticklabels([])\n",
    "    ax.set_xticklabels([])\n",
    "    plt.savefig(\"batman.png\")\n",
    "    plt.show()"
   ]
  },
  {
   "cell_type": "code",
   "execution_count": 35,
   "metadata": {},
   "outputs": [
    {
     "data": {
      "image/png": "[encoded data removed]",
      "text/plain": [
       "<Figure size 432x288 with 1 Axes>"
      ]
     },
     "metadata": {
      "needs_background": "light"
     },
     "output_type": "display_data"
    }
   ],
   "source": [
    "batman_maker(0, 0, 0)"
   ]
  }
 ],
 "metadata": {
  "kernelspec": {
   "display_name": "Python 3 (ipykernel)",
   "language": "python",
   "name": "python3"
  },
  "language_info": {
   "codemirror_mode": {
    "name": "ipython",
    "version": 3
   },
   "file_extension": ".py",
   "mimetype": "text/x-python",
   "name": "python",
   "nbconvert_exporter": "python",
   "pygments_lexer": "ipython3",
   "version": "3.9.7"
  }
 },
 "nbformat": 4,
 "nbformat_minor": 2
}
