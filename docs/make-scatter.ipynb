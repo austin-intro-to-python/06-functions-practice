{
 "cells": [
  {
   "cell_type": "markdown",
   "id": "checked-relative",
   "metadata": {
    "id": "checked-relative"
   },
   "source": [
    "## Generate HTML images"
   ]
  },
  {
   "cell_type": "code",
   "execution_count": null,
   "id": "ffba546a",
   "metadata": {},
   "outputs": [],
   "source": [
    "# you only have to run this one time.\n",
    "# you can also run it in terminal (without the \"bang\" !)\n",
    "! conda install plotly"
   ]
  },
  {
   "cell_type": "code",
   "execution_count": 10,
   "id": "raised-reality",
   "metadata": {
    "executionInfo": {
     "elapsed": 1284,
     "status": "ok",
     "timestamp": 1636594239978,
     "user": {
      "displayName": "Austin Lasseter",
      "photoUrl": "https://lh3.googleusercontent.com/a/default-user=s64",
      "userId": "15508614330588139795"
     },
     "user_tz": 300
    },
    "id": "raised-reality"
   },
   "outputs": [],
   "source": [
    "import plotly.graph_objects as go\n",
    "import numpy as np"
   ]
  },
  {
   "cell_type": "code",
   "execution_count": 26,
   "id": "coated-cedar",
   "metadata": {},
   "outputs": [],
   "source": [
    "# define function to create some random data values\n",
    "\n",
    "def super_duper_randomizer(top_number):\n",
    "    count = 500\n",
    "    values = np.random.randint(1, top_number, count)\n",
    "    final_list = list(values)\n",
    "    return final_list "
   ]
  },
  {
   "cell_type": "code",
   "execution_count": 27,
   "id": "be5f0a56",
   "metadata": {},
   "outputs": [],
   "source": [
    "# invoke your function to create some X and Y data points\n",
    "random_x=super_duper_randomizer(top_number=100)\n",
    "random_y=super_duper_randomizer(top_number=200)"
   ]
  },
  {
   "cell_type": "code",
   "execution_count": 29,
   "id": "productive-numbers",
   "metadata": {},
   "outputs": [],
   "source": [
    "# create some random color values\n",
    "random_colors=super_duper_randomizer(top_number=10)"
   ]
  },
  {
   "cell_type": "code",
   "execution_count": 30,
   "id": "ff3f369f",
   "metadata": {},
   "outputs": [
    {
     "name": "stdout",
     "output_type": "stream",
     "text": [
      "[8, 91, 25, 63, 87, 2, 63, 25, 54, 72]\n",
      "[195, 101, 165, 57, 170, 170, 8, 142, 52, 40]\n",
      "[4, 1, 4, 7, 1, 4, 7, 2, 3, 1]\n"
     ]
    }
   ],
   "source": [
    "# check out the results\n",
    "print(random_x[:10])\n",
    "print(random_y[:10])\n",
    "print(random_colors[:10])"
   ]
  },
  {
   "cell_type": "code",
   "execution_count": 37,
   "id": "a47b39b1",
   "metadata": {},
   "outputs": [],
   "source": [
    "# create a dictionary of font style\n",
    "my_lovely_font=dict(\n",
    "                    family=\"Courier New, monospace\",\n",
    "                    size=12,\n",
    "                    color=\"Purple\"\n",
    "                    )"
   ]
  },
  {
   "cell_type": "code",
   "execution_count": 42,
   "id": "94995ef5",
   "metadata": {},
   "outputs": [
    {
     "name": "stdout",
     "output_type": "stream",
     "text": [
      "{'family': 'Courier New, monospace', 'size': 12, 'color': 'Purple'}\n"
     ]
    }
   ],
   "source": [
    "# checkout that dictionary (just for fun):\n",
    "print(my_lovely_font)"
   ]
  },
  {
   "cell_type": "code",
   "execution_count": 35,
   "id": "f5bd9a6f",
   "metadata": {},
   "outputs": [],
   "source": [
    "# create a dictionary of markers \n",
    "my_super_cool_markers=dict(\n",
    "                            size=12,\n",
    "                            color=random_colors, # set color equal to a variable\n",
    "                            colorscale=['blue',  'red', 'yellow'], # one of plotly colorscales\n",
    "                            showscale=True\n",
    "                            )"
   ]
  },
  {
   "cell_type": "code",
   "execution_count": 47,
   "id": "61a563a2",
   "metadata": {},
   "outputs": [
    {
     "name": "stdout",
     "output_type": "stream",
     "text": [
      "dict_keys(['size', 'color', 'colorscale', 'showscale'])\n",
      "12\n",
      "['blue', 'red', 'yellow']\n",
      "True\n"
     ]
    }
   ],
   "source": [
    "# checkout that dictionary (just for fun):\n",
    "print(my_super_cool_markers.keys())\n",
    "print(my_super_cool_markers['size'])\n",
    "print(my_super_cool_markers['colorscale'])\n",
    "print(my_super_cool_markers['showscale'])"
   ]
  },
  {
   "cell_type": "code",
   "execution_count": 36,
   "id": "italic-rapid",
   "metadata": {},
   "outputs": [],
   "source": [
    "# create the data trace\n",
    "trace=go.Scatter(\n",
    "    x = random_x,\n",
    "    y = random_y,\n",
    "    mode='markers',\n",
    "    marker=my_super_cool_markers\n",
    "    )"
   ]
  },
  {
   "cell_type": "code",
   "execution_count": 32,
   "id": "optional-radio",
   "metadata": {},
   "outputs": [],
   "source": [
    "# add some layout\n",
    "layout = go.Layout(\n",
    "    title = \"Random values in a scatterplot\",\n",
    "    xaxis_title=\"X Axis Title\",\n",
    "    yaxis_title=\"Y Axis Title\",\n",
    "    font=my_lovely_font\n",
    "    )"
   ]
  },
  {
   "cell_type": "code",
   "execution_count": 48,
   "id": "OGPpwBReksN_",
   "metadata": {
    "executionInfo": {
     "elapsed": 1043,
     "status": "ok",
     "timestamp": 1636594241016,
     "user": {
      "displayName": "Austin Lasseter",
      "photoUrl": "https://lh3.googleusercontent.com/a/default-user=s64",
      "userId": "15508614330588139795"
     },
     "user_tz": 300
    },
    "id": "OGPpwBReksN_"
   },
   "outputs": [],
   "source": [
    "# Combine those into a bar chart\n",
    "fig = go.Figure(data=trace,layout=layout)"
   ]
  },
  {
   "cell_type": "code",
   "execution_count": 49,
   "id": "knowing-picking",
   "metadata": {},
   "outputs": [
    {
     "data": {
      "application/vnd.plotly.v1+json": {
       "config": {
        "plotlyServerURL": "https://plot.ly"
       },
       "data": [
        {
         "marker": {
          "color": [
           4,
           1,
           4,
           7,
           1,
           4,
           7,
           2,
           3,
           1,
           9,
           1,
           2,
           4,
           1,
           2,
           2,
           1,
           5,
           2,
           4,
           9,
           8,
           7,
           5,
           1,
           3,
           9,
           1,
           8,
           7,
           9,
           4,
           9,
           7,
           9,
           5,
           1,
           6,
           6,
           6,
           8,
           5,
           1,
           3,
           2,
           7,
           7,
           3,
           8,
           9,
           8,
           6,
           6,
           6,
           7,
           6,
           8,
           8,
           1,
           9,
           2,
           4,
           2,
           8,
           1,
           2,
           6,
           9,
           3,
           4,
           7,
           7,
           8,
           4,
           9,
           1,
           1,
           9,
           1,
           6,
           6,
           4,
           3,
           3,
           6,
           1,
           5,
           6,
           7,
           6,
           8,
           9,
           7,
           2,
           9,
           2,
           8,
           4,
           7,
           1,
           9,
           3,
           1,
           4,
           5,
           8,
           9,
           9,
           5,
           3,
           6,
           5,
           6,
           1,
           1,
           8,
           4,
           7,
           2,
           7,
           8,
           5,
           8,
           4,
           6,
           4,
           1,
           6,
           7,
           4,
           9,
           5,
           8,
           4,
           4,
           7,
           5,
           6,
           1,
           3,
           1,
           5,
           6,
           2,
           8,
           4,
           9,
           1,
           8,
           7,
           1,
           6,
           6,
           7,
           6,
           3,
           2,
           7,
           2,
           8,
           4,
           6,
           1,
           5,
           7,
           3,
           8,
           6,
           7,
           5,
           8,
           6,
           1,
           5,
           3,
           9,
           8,
           8,
           3,
           5,
           2,
           3,
           9,
           4,
           3,
           8,
           8,
           4,
           1,
           1,
           5,
           4,
           6,
           8,
           2,
           4,
           2,
           3,
           7,
           4,
           9,
           9,
           5,
           6,
           3,
           1,
           6,
           1,
           9,
           2,
           8,
           7,
           8,
           5,
           7,
           9,
           2,
           5,
           2,
           8,
           3,
           6,
           1,
           3,
           4,
           8,
           3,
           7,
           3,
           7,
           1,
           2,
           2,
           8,
           5,
           4,
           6,
           9,
           7,
           2,
           8,
           6,
           2,
           4,
           6,
           2,
           5,
           2,
           2,
           4,
           2,
           4,
           8,
           2,
           4,
           1,
           2,
           6,
           6,
           1,
           5,
           3,
           7,
           6,
           9,
           1,
           9,
           5,
           3,
           8,
           7,
           1,
           4,
           3,
           6,
           4,
           3,
           9,
           8,
           1,
           6,
           5,
           9,
           9,
           1,
           7,
           4,
           8,
           9,
           4,
           8,
           4,
           7,
           1,
           9,
           3,
           2,
           6,
           2,
           9,
           6,
           3,
           4,
           2,
           1,
           5,
           4,
           6,
           3,
           8,
           1,
           3,
           3,
           4,
           2,
           6,
           6,
           4,
           8,
           9,
           7,
           3,
           7,
           7,
           8,
           7,
           9,
           6,
           4,
           8,
           6,
           6,
           3,
           3,
           8,
           9,
           2,
           7,
           1,
           4,
           6,
           5,
           5,
           3,
           6,
           2,
           6,
           7,
           5,
           4,
           5,
           4,
           6,
           7,
           2,
           2,
           2,
           6,
           7,
           1,
           4,
           8,
           9,
           9,
           4,
           4,
           8,
           1,
           2,
           1,
           2,
           9,
           9,
           2,
           7,
           4,
           4,
           5,
           6,
           5,
           2,
           6,
           6,
           9,
           7,
           8,
           5,
           2,
           2,
           6,
           3,
           3,
           9,
           2,
           9,
           3,
           4,
           3,
           1,
           6,
           2,
           1,
           5,
           2,
           6,
           7,
           4,
           3,
           9,
           3,
           6,
           9,
           4,
           3,
           9,
           6,
           1,
           1,
           7,
           2,
           7,
           6,
           2,
           3,
           1,
           2,
           5,
           5,
           5,
           1,
           1,
           1,
           9,
           9,
           7,
           2,
           2,
           8,
           5,
           6,
           3,
           6,
           6,
           9,
           8,
           9,
           9,
           4,
           3,
           4,
           6,
           2,
           2,
           2,
           8,
           8,
           7,
           1,
           3,
           4,
           7,
           1,
           1,
           5,
           5,
           6,
           7,
           4,
           6,
           4,
           1,
           3,
           4,
           6,
           6,
           1,
           3,
           9,
           2,
           6,
           8,
           7,
           6,
           7,
           5,
           5,
           9,
           4,
           2,
           4,
           9,
           5,
           9,
           1,
           7,
           7,
           2,
           5,
           3
          ],
          "colorscale": [
           [
            0,
            "blue"
           ],
           [
            0.5,
            "red"
           ],
           [
            1,
            "yellow"
           ]
          ],
          "showscale": true,
          "size": 12
         },
         "mode": "markers",
         "type": "scatter",
         "x": [
          8,
          91,
          25,
          63,
          87,
          2,
          63,
          25,
          54,
          72,
          6,
          56,
          83,
          4,
          8,
          8,
          94,
          90,
          86,
          5,
          34,
          58,
          77,
          83,
          68,
          80,
          80,
          79,
          33,
          36,
          18,
          1,
          77,
          32,
          45,
          3,
          97,
          99,
          43,
          14,
          6,
          78,
          76,
          43,
          94,
          99,
          56,
          41,
          74,
          30,
          20,
          74,
          26,
          49,
          22,
          82,
          71,
          90,
          35,
          48,
          42,
          10,
          86,
          95,
          7,
          55,
          77,
          90,
          64,
          32,
          93,
          50,
          34,
          19,
          9,
          84,
          98,
          65,
          4,
          44,
          50,
          96,
          76,
          5,
          78,
          27,
          49,
          32,
          20,
          74,
          37,
          5,
          36,
          35,
          93,
          96,
          60,
          55,
          63,
          74,
          25,
          8,
          16,
          22,
          81,
          90,
          7,
          43,
          54,
          34,
          54,
          30,
          73,
          38,
          19,
          24,
          64,
          58,
          9,
          76,
          76,
          63,
          99,
          5,
          92,
          44,
          71,
          76,
          45,
          49,
          3,
          43,
          17,
          53,
          54,
          50,
          29,
          62,
          30,
          97,
          11,
          6,
          18,
          16,
          37,
          56,
          43,
          11,
          91,
          75,
          21,
          50,
          27,
          15,
          21,
          2,
          25,
          99,
          84,
          23,
          11,
          16,
          59,
          46,
          85,
          55,
          82,
          24,
          67,
          36,
          38,
          5,
          99,
          46,
          99,
          42,
          57,
          71,
          79,
          46,
          33,
          24,
          43,
          54,
          49,
          22,
          32,
          4,
          9,
          47,
          76,
          45,
          12,
          95,
          66,
          33,
          14,
          99,
          66,
          90,
          23,
          12,
          95,
          40,
          11,
          80,
          53,
          1,
          88,
          2,
          48,
          38,
          51,
          52,
          62,
          47,
          72,
          72,
          88,
          81,
          45,
          1,
          19,
          34,
          75,
          19,
          3,
          31,
          2,
          31,
          8,
          40,
          57,
          73,
          72,
          61,
          87,
          86,
          8,
          68,
          48,
          75,
          21,
          55,
          44,
          28,
          22,
          64,
          17,
          70,
          80,
          91,
          64,
          10,
          54,
          11,
          28,
          93,
          8,
          36,
          97,
          12,
          7,
          88,
          84,
          83,
          51,
          36,
          61,
          75,
          75,
          16,
          44,
          55,
          61,
          28,
          67,
          6,
          54,
          51,
          77,
          39,
          5,
          1,
          88,
          29,
          49,
          46,
          55,
          18,
          83,
          20,
          77,
          46,
          89,
          3,
          63,
          35,
          29,
          49,
          61,
          93,
          13,
          13,
          32,
          80,
          4,
          9,
          20,
          24,
          10,
          90,
          77,
          36,
          11,
          22,
          68,
          11,
          3,
          62,
          75,
          16,
          19,
          18,
          80,
          45,
          86,
          52,
          99,
          10,
          85,
          59,
          54,
          12,
          68,
          1,
          83,
          52,
          80,
          53,
          14,
          17,
          91,
          45,
          54,
          81,
          17,
          74,
          73,
          19,
          66,
          89,
          95,
          73,
          1,
          23,
          92,
          94,
          52,
          29,
          63,
          8,
          83,
          15,
          80,
          2,
          72,
          47,
          94,
          28,
          39,
          63,
          44,
          90,
          9,
          75,
          73,
          31,
          93,
          27,
          82,
          82,
          30,
          90,
          30,
          72,
          39,
          79,
          26,
          84,
          47,
          14,
          63,
          80,
          67,
          69,
          25,
          97,
          87,
          74,
          21,
          60,
          59,
          91,
          75,
          10,
          91,
          1,
          26,
          87,
          1,
          41,
          60,
          96,
          90,
          92,
          20,
          82,
          28,
          29,
          21,
          67,
          57,
          62,
          51,
          49,
          62,
          31,
          81,
          71,
          3,
          29,
          13,
          37,
          40,
          44,
          70,
          60,
          2,
          50,
          67,
          78,
          2,
          53,
          83,
          81,
          75,
          25,
          82,
          58,
          6,
          57,
          4,
          16,
          34,
          79,
          51,
          27,
          87,
          47,
          40,
          43,
          54,
          42,
          67,
          35,
          54,
          21,
          44,
          43,
          99,
          50,
          16,
          74,
          17,
          84,
          66,
          78,
          58,
          27,
          70,
          86,
          77,
          40,
          95,
          64,
          72,
          8,
          78,
          28,
          94,
          35,
          24,
          52,
          6,
          81,
          74,
          7,
          20,
          82
         ],
         "y": [
          195,
          101,
          165,
          57,
          170,
          170,
          8,
          142,
          52,
          40,
          54,
          24,
          182,
          118,
          17,
          183,
          62,
          9,
          181,
          51,
          51,
          32,
          170,
          62,
          28,
          166,
          176,
          79,
          171,
          92,
          137,
          62,
          103,
          81,
          162,
          40,
          42,
          158,
          151,
          7,
          141,
          64,
          1,
          1,
          78,
          63,
          8,
          165,
          184,
          133,
          149,
          146,
          64,
          169,
          7,
          6,
          150,
          182,
          23,
          130,
          37,
          53,
          76,
          41,
          164,
          182,
          8,
          177,
          98,
          87,
          89,
          56,
          111,
          31,
          82,
          88,
          77,
          108,
          80,
          106,
          61,
          129,
          45,
          137,
          87,
          87,
          75,
          80,
          104,
          57,
          102,
          129,
          196,
          133,
          29,
          27,
          48,
          127,
          99,
          165,
          161,
          35,
          21,
          68,
          134,
          173,
          54,
          195,
          81,
          95,
          32,
          181,
          3,
          171,
          152,
          180,
          189,
          120,
          180,
          124,
          192,
          195,
          134,
          118,
          199,
          124,
          45,
          52,
          122,
          93,
          150,
          82,
          153,
          100,
          111,
          66,
          160,
          66,
          126,
          94,
          80,
          159,
          157,
          66,
          3,
          3,
          29,
          55,
          122,
          102,
          39,
          18,
          54,
          178,
          101,
          104,
          134,
          129,
          151,
          13,
          126,
          172,
          148,
          82,
          2,
          32,
          48,
          81,
          75,
          112,
          107,
          16,
          85,
          133,
          15,
          187,
          129,
          162,
          184,
          134,
          72,
          179,
          104,
          151,
          95,
          196,
          8,
          122,
          151,
          115,
          172,
          127,
          40,
          22,
          46,
          36,
          31,
          171,
          158,
          33,
          156,
          8,
          18,
          170,
          167,
          117,
          166,
          162,
          110,
          56,
          125,
          105,
          164,
          3,
          66,
          32,
          188,
          151,
          174,
          64,
          106,
          7,
          86,
          76,
          103,
          101,
          38,
          133,
          178,
          31,
          113,
          192,
          191,
          82,
          56,
          104,
          41,
          197,
          169,
          101,
          192,
          20,
          25,
          54,
          169,
          44,
          117,
          76,
          13,
          128,
          28,
          137,
          54,
          125,
          154,
          94,
          110,
          97,
          13,
          121,
          11,
          191,
          165,
          84,
          9,
          181,
          22,
          97,
          80,
          189,
          102,
          31,
          79,
          34,
          90,
          20,
          137,
          139,
          29,
          102,
          54,
          53,
          121,
          103,
          183,
          34,
          30,
          142,
          156,
          49,
          168,
          28,
          69,
          127,
          175,
          104,
          130,
          191,
          151,
          125,
          55,
          82,
          196,
          28,
          67,
          46,
          111,
          139,
          29,
          53,
          98,
          104,
          143,
          136,
          161,
          31,
          189,
          198,
          125,
          166,
          9,
          41,
          39,
          30,
          17,
          39,
          81,
          36,
          130,
          90,
          195,
          194,
          111,
          63,
          140,
          65,
          119,
          78,
          110,
          31,
          104,
          1,
          29,
          151,
          14,
          180,
          196,
          51,
          25,
          76,
          87,
          144,
          48,
          109,
          81,
          182,
          60,
          120,
          76,
          2,
          190,
          84,
          110,
          129,
          47,
          7,
          88,
          124,
          1,
          191,
          3,
          89,
          63,
          72,
          45,
          69,
          40,
          47,
          12,
          93,
          154,
          47,
          140,
          146,
          55,
          44,
          93,
          92,
          75,
          165,
          47,
          35,
          169,
          154,
          192,
          109,
          9,
          5,
          27,
          7,
          157,
          31,
          48,
          56,
          84,
          31,
          192,
          196,
          110,
          58,
          73,
          92,
          49,
          198,
          188,
          15,
          81,
          37,
          74,
          194,
          48,
          38,
          179,
          46,
          161,
          42,
          101,
          20,
          82,
          112,
          157,
          182,
          50,
          63,
          119,
          78,
          138,
          33,
          191,
          50,
          77,
          95,
          97,
          191,
          19,
          33,
          69,
          94,
          160,
          97,
          117,
          78,
          77,
          153,
          156,
          165,
          104,
          79,
          41,
          107,
          50,
          108,
          156,
          126,
          138,
          38,
          198,
          3,
          35,
          43,
          148,
          26,
          69,
          162,
          134,
          113,
          14,
          49,
          129,
          58,
          50,
          121,
          125,
          133,
          175,
          147,
          160,
          199,
          198,
          151,
          168,
          152,
          151,
          80,
          199,
          33,
          159,
          98,
          194,
          87
         ]
        }
       ],
       "layout": {
        "font": {
         "color": "Purple",
         "family": "Courier New, monospace",
         "size": 12
        },
        "template": {
         "data": {
          "bar": [
           {
            "error_x": {
             "color": "#2a3f5f"
            },
            "error_y": {
             "color": "#2a3f5f"
            },
            "marker": {
             "line": {
              "color": "#E5ECF6",
              "width": 0.5
             },
             "pattern": {
              "fillmode": "overlay",
              "size": 10,
              "solidity": 0.2
             }
            },
            "type": "bar"
           }
          ],
          "barpolar": [
           {
            "marker": {
             "line": {
              "color": "#E5ECF6",
              "width": 0.5
             },
             "pattern": {
              "fillmode": "overlay",
              "size": 10,
              "solidity": 0.2
             }
            },
            "type": "barpolar"
           }
          ],
          "carpet": [
           {
            "aaxis": {
             "endlinecolor": "#2a3f5f",
             "gridcolor": "white",
             "linecolor": "white",
             "minorgridcolor": "white",
             "startlinecolor": "#2a3f5f"
            },
            "baxis": {
             "endlinecolor": "#2a3f5f",
             "gridcolor": "white",
             "linecolor": "white",
             "minorgridcolor": "white",
             "startlinecolor": "#2a3f5f"
            },
            "type": "carpet"
           }
          ],
          "choropleth": [
           {
            "colorbar": {
             "outlinewidth": 0,
             "ticks": ""
            },
            "type": "choropleth"
           }
          ],
          "contour": [
           {
            "colorbar": {
             "outlinewidth": 0,
             "ticks": ""
            },
            "colorscale": [
             [
              0,
              "#0d0887"
             ],
             [
              0.1111111111111111,
              "#46039f"
             ],
             [
              0.2222222222222222,
              "#7201a8"
             ],
             [
              0.3333333333333333,
              "#9c179e"
             ],
             [
              0.4444444444444444,
              "#bd3786"
             ],
             [
              0.5555555555555556,
              "#d8576b"
             ],
             [
              0.6666666666666666,
              "#ed7953"
             ],
             [
              0.7777777777777778,
              "#fb9f3a"
             ],
             [
              0.8888888888888888,
              "#fdca26"
             ],
             [
              1,
              "#f0f921"
             ]
            ],
            "type": "contour"
           }
          ],
          "contourcarpet": [
           {
            "colorbar": {
             "outlinewidth": 0,
             "ticks": ""
            },
            "type": "contourcarpet"
           }
          ],
          "heatmap": [
           {
            "colorbar": {
             "outlinewidth": 0,
             "ticks": ""
            },
            "colorscale": [
             [
              0,
              "#0d0887"
             ],
             [
              0.1111111111111111,
              "#46039f"
             ],
             [
              0.2222222222222222,
              "#7201a8"
             ],
             [
              0.3333333333333333,
              "#9c179e"
             ],
             [
              0.4444444444444444,
              "#bd3786"
             ],
             [
              0.5555555555555556,
              "#d8576b"
             ],
             [
              0.6666666666666666,
              "#ed7953"
             ],
             [
              0.7777777777777778,
              "#fb9f3a"
             ],
             [
              0.8888888888888888,
              "#fdca26"
             ],
             [
              1,
              "#f0f921"
             ]
            ],
            "type": "heatmap"
           }
          ],
          "heatmapgl": [
           {
            "colorbar": {
             "outlinewidth": 0,
             "ticks": ""
            },
            "colorscale": [
             [
              0,
              "#0d0887"
             ],
             [
              0.1111111111111111,
              "#46039f"
             ],
             [
              0.2222222222222222,
              "#7201a8"
             ],
             [
              0.3333333333333333,
              "#9c179e"
             ],
             [
              0.4444444444444444,
              "#bd3786"
             ],
             [
              0.5555555555555556,
              "#d8576b"
             ],
             [
              0.6666666666666666,
              "#ed7953"
             ],
             [
              0.7777777777777778,
              "#fb9f3a"
             ],
             [
              0.8888888888888888,
              "#fdca26"
             ],
             [
              1,
              "#f0f921"
             ]
            ],
            "type": "heatmapgl"
           }
          ],
          "histogram": [
           {
            "marker": {
             "pattern": {
              "fillmode": "overlay",
              "size": 10,
              "solidity": 0.2
             }
            },
            "type": "histogram"
           }
          ],
          "histogram2d": [
           {
            "colorbar": {
             "outlinewidth": 0,
             "ticks": ""
            },
            "colorscale": [
             [
              0,
              "#0d0887"
             ],
             [
              0.1111111111111111,
              "#46039f"
             ],
             [
              0.2222222222222222,
              "#7201a8"
             ],
             [
              0.3333333333333333,
              "#9c179e"
             ],
             [
              0.4444444444444444,
              "#bd3786"
             ],
             [
              0.5555555555555556,
              "#d8576b"
             ],
             [
              0.6666666666666666,
              "#ed7953"
             ],
             [
              0.7777777777777778,
              "#fb9f3a"
             ],
             [
              0.8888888888888888,
              "#fdca26"
             ],
             [
              1,
              "#f0f921"
             ]
            ],
            "type": "histogram2d"
           }
          ],
          "histogram2dcontour": [
           {
            "colorbar": {
             "outlinewidth": 0,
             "ticks": ""
            },
            "colorscale": [
             [
              0,
              "#0d0887"
             ],
             [
              0.1111111111111111,
              "#46039f"
             ],
             [
              0.2222222222222222,
              "#7201a8"
             ],
             [
              0.3333333333333333,
              "#9c179e"
             ],
             [
              0.4444444444444444,
              "#bd3786"
             ],
             [
              0.5555555555555556,
              "#d8576b"
             ],
             [
              0.6666666666666666,
              "#ed7953"
             ],
             [
              0.7777777777777778,
              "#fb9f3a"
             ],
             [
              0.8888888888888888,
              "#fdca26"
             ],
             [
              1,
              "#f0f921"
             ]
            ],
            "type": "histogram2dcontour"
           }
          ],
          "mesh3d": [
           {
            "colorbar": {
             "outlinewidth": 0,
             "ticks": ""
            },
            "type": "mesh3d"
           }
          ],
          "parcoords": [
           {
            "line": {
             "colorbar": {
              "outlinewidth": 0,
              "ticks": ""
             }
            },
            "type": "parcoords"
           }
          ],
          "pie": [
           {
            "automargin": true,
            "type": "pie"
           }
          ],
          "scatter": [
           {
            "marker": {
             "colorbar": {
              "outlinewidth": 0,
              "ticks": ""
             }
            },
            "type": "scatter"
           }
          ],
          "scatter3d": [
           {
            "line": {
             "colorbar": {
              "outlinewidth": 0,
              "ticks": ""
             }
            },
            "marker": {
             "colorbar": {
              "outlinewidth": 0,
              "ticks": ""
             }
            },
            "type": "scatter3d"
           }
          ],
          "scattercarpet": [
           {
            "marker": {
             "colorbar": {
              "outlinewidth": 0,
              "ticks": ""
             }
            },
            "type": "scattercarpet"
           }
          ],
          "scattergeo": [
           {
            "marker": {
             "colorbar": {
              "outlinewidth": 0,
              "ticks": ""
             }
            },
            "type": "scattergeo"
           }
          ],
          "scattergl": [
           {
            "marker": {
             "colorbar": {
              "outlinewidth": 0,
              "ticks": ""
             }
            },
            "type": "scattergl"
           }
          ],
          "scattermapbox": [
           {
            "marker": {
             "colorbar": {
              "outlinewidth": 0,
              "ticks": ""
             }
            },
            "type": "scattermapbox"
           }
          ],
          "scatterpolar": [
           {
            "marker": {
             "colorbar": {
              "outlinewidth": 0,
              "ticks": ""
             }
            },
            "type": "scatterpolar"
           }
          ],
          "scatterpolargl": [
           {
            "marker": {
             "colorbar": {
              "outlinewidth": 0,
              "ticks": ""
             }
            },
            "type": "scatterpolargl"
           }
          ],
          "scatterternary": [
           {
            "marker": {
             "colorbar": {
              "outlinewidth": 0,
              "ticks": ""
             }
            },
            "type": "scatterternary"
           }
          ],
          "surface": [
           {
            "colorbar": {
             "outlinewidth": 0,
             "ticks": ""
            },
            "colorscale": [
             [
              0,
              "#0d0887"
             ],
             [
              0.1111111111111111,
              "#46039f"
             ],
             [
              0.2222222222222222,
              "#7201a8"
             ],
             [
              0.3333333333333333,
              "#9c179e"
             ],
             [
              0.4444444444444444,
              "#bd3786"
             ],
             [
              0.5555555555555556,
              "#d8576b"
             ],
             [
              0.6666666666666666,
              "#ed7953"
             ],
             [
              0.7777777777777778,
              "#fb9f3a"
             ],
             [
              0.8888888888888888,
              "#fdca26"
             ],
             [
              1,
              "#f0f921"
             ]
            ],
            "type": "surface"
           }
          ],
          "table": [
           {
            "cells": {
             "fill": {
              "color": "#EBF0F8"
             },
             "line": {
              "color": "white"
             }
            },
            "header": {
             "fill": {
              "color": "#C8D4E3"
             },
             "line": {
              "color": "white"
             }
            },
            "type": "table"
           }
          ]
         },
         "layout": {
          "annotationdefaults": {
           "arrowcolor": "#2a3f5f",
           "arrowhead": 0,
           "arrowwidth": 1
          },
          "autotypenumbers": "strict",
          "coloraxis": {
           "colorbar": {
            "outlinewidth": 0,
            "ticks": ""
           }
          },
          "colorscale": {
           "diverging": [
            [
             0,
             "#8e0152"
            ],
            [
             0.1,
             "#c51b7d"
            ],
            [
             0.2,
             "#de77ae"
            ],
            [
             0.3,
             "#f1b6da"
            ],
            [
             0.4,
             "#fde0ef"
            ],
            [
             0.5,
             "#f7f7f7"
            ],
            [
             0.6,
             "#e6f5d0"
            ],
            [
             0.7,
             "#b8e186"
            ],
            [
             0.8,
             "#7fbc41"
            ],
            [
             0.9,
             "#4d9221"
            ],
            [
             1,
             "#276419"
            ]
           ],
           "sequential": [
            [
             0,
             "#0d0887"
            ],
            [
             0.1111111111111111,
             "#46039f"
            ],
            [
             0.2222222222222222,
             "#7201a8"
            ],
            [
             0.3333333333333333,
             "#9c179e"
            ],
            [
             0.4444444444444444,
             "#bd3786"
            ],
            [
             0.5555555555555556,
             "#d8576b"
            ],
            [
             0.6666666666666666,
             "#ed7953"
            ],
            [
             0.7777777777777778,
             "#fb9f3a"
            ],
            [
             0.8888888888888888,
             "#fdca26"
            ],
            [
             1,
             "#f0f921"
            ]
           ],
           "sequentialminus": [
            [
             0,
             "#0d0887"
            ],
            [
             0.1111111111111111,
             "#46039f"
            ],
            [
             0.2222222222222222,
             "#7201a8"
            ],
            [
             0.3333333333333333,
             "#9c179e"
            ],
            [
             0.4444444444444444,
             "#bd3786"
            ],
            [
             0.5555555555555556,
             "#d8576b"
            ],
            [
             0.6666666666666666,
             "#ed7953"
            ],
            [
             0.7777777777777778,
             "#fb9f3a"
            ],
            [
             0.8888888888888888,
             "#fdca26"
            ],
            [
             1,
             "#f0f921"
            ]
           ]
          },
          "colorway": [
           "#636efa",
           "#EF553B",
           "#00cc96",
           "#ab63fa",
           "#FFA15A",
           "#19d3f3",
           "#FF6692",
           "#B6E880",
           "#FF97FF",
           "#FECB52"
          ],
          "font": {
           "color": "#2a3f5f"
          },
          "geo": {
           "bgcolor": "white",
           "lakecolor": "white",
           "landcolor": "#E5ECF6",
           "showlakes": true,
           "showland": true,
           "subunitcolor": "white"
          },
          "hoverlabel": {
           "align": "left"
          },
          "hovermode": "closest",
          "mapbox": {
           "style": "light"
          },
          "paper_bgcolor": "white",
          "plot_bgcolor": "#E5ECF6",
          "polar": {
           "angularaxis": {
            "gridcolor": "white",
            "linecolor": "white",
            "ticks": ""
           },
           "bgcolor": "#E5ECF6",
           "radialaxis": {
            "gridcolor": "white",
            "linecolor": "white",
            "ticks": ""
           }
          },
          "scene": {
           "xaxis": {
            "backgroundcolor": "#E5ECF6",
            "gridcolor": "white",
            "gridwidth": 2,
            "linecolor": "white",
            "showbackground": true,
            "ticks": "",
            "zerolinecolor": "white"
           },
           "yaxis": {
            "backgroundcolor": "#E5ECF6",
            "gridcolor": "white",
            "gridwidth": 2,
            "linecolor": "white",
            "showbackground": true,
            "ticks": "",
            "zerolinecolor": "white"
           },
           "zaxis": {
            "backgroundcolor": "#E5ECF6",
            "gridcolor": "white",
            "gridwidth": 2,
            "linecolor": "white",
            "showbackground": true,
            "ticks": "",
            "zerolinecolor": "white"
           }
          },
          "shapedefaults": {
           "line": {
            "color": "#2a3f5f"
           }
          },
          "ternary": {
           "aaxis": {
            "gridcolor": "white",
            "linecolor": "white",
            "ticks": ""
           },
           "baxis": {
            "gridcolor": "white",
            "linecolor": "white",
            "ticks": ""
           },
           "bgcolor": "#E5ECF6",
           "caxis": {
            "gridcolor": "white",
            "linecolor": "white",
            "ticks": ""
           }
          },
          "title": {
           "x": 0.05
          },
          "xaxis": {
           "automargin": true,
           "gridcolor": "white",
           "linecolor": "white",
           "ticks": "",
           "title": {
            "standoff": 15
           },
           "zerolinecolor": "white",
           "zerolinewidth": 2
          },
          "yaxis": {
           "automargin": true,
           "gridcolor": "white",
           "linecolor": "white",
           "ticks": "",
           "title": {
            "standoff": 15
           },
           "zerolinecolor": "white",
           "zerolinewidth": 2
          }
         }
        },
        "title": {
         "text": "Random values in a scatterplot"
        },
        "xaxis": {
         "title": {
          "text": "X Axis Title"
         }
        },
        "yaxis": {
         "title": {
          "text": "Y Axis Title"
         }
        }
       }
      },
      "text/html": [
       "<div>                            <div id=\"c7e88d91-e987-4892-a46b-59a3d2e06b8d\" class=\"plotly-graph-div\" style=\"height:525px; width:100%;\"></div>            <script type=\"text/javascript\">                require([\"plotly\"], function(Plotly) {                    window.PLOTLYENV=window.PLOTLYENV || {};                                    if (document.getElementById(\"c7e88d91-e987-4892-a46b-59a3d2e06b8d\")) {                    Plotly.newPlot(                        \"c7e88d91-e987-4892-a46b-59a3d2e06b8d\",                        [{\"marker\":{\"color\":[4,1,4,7,1,4,7,2,3,1,9,1,2,4,1,2,2,1,5,2,4,9,8,7,5,1,3,9,1,8,7,9,4,9,7,9,5,1,6,6,6,8,5,1,3,2,7,7,3,8,9,8,6,6,6,7,6,8,8,1,9,2,4,2,8,1,2,6,9,3,4,7,7,8,4,9,1,1,9,1,6,6,4,3,3,6,1,5,6,7,6,8,9,7,2,9,2,8,4,7,1,9,3,1,4,5,8,9,9,5,3,6,5,6,1,1,8,4,7,2,7,8,5,8,4,6,4,1,6,7,4,9,5,8,4,4,7,5,6,1,3,1,5,6,2,8,4,9,1,8,7,1,6,6,7,6,3,2,7,2,8,4,6,1,5,7,3,8,6,7,5,8,6,1,5,3,9,8,8,3,5,2,3,9,4,3,8,8,4,1,1,5,4,6,8,2,4,2,3,7,4,9,9,5,6,3,1,6,1,9,2,8,7,8,5,7,9,2,5,2,8,3,6,1,3,4,8,3,7,3,7,1,2,2,8,5,4,6,9,7,2,8,6,2,4,6,2,5,2,2,4,2,4,8,2,4,1,2,6,6,1,5,3,7,6,9,1,9,5,3,8,7,1,4,3,6,4,3,9,8,1,6,5,9,9,1,7,4,8,9,4,8,4,7,1,9,3,2,6,2,9,6,3,4,2,1,5,4,6,3,8,1,3,3,4,2,6,6,4,8,9,7,3,7,7,8,7,9,6,4,8,6,6,3,3,8,9,2,7,1,4,6,5,5,3,6,2,6,7,5,4,5,4,6,7,2,2,2,6,7,1,4,8,9,9,4,4,8,1,2,1,2,9,9,2,7,4,4,5,6,5,2,6,6,9,7,8,5,2,2,6,3,3,9,2,9,3,4,3,1,6,2,1,5,2,6,7,4,3,9,3,6,9,4,3,9,6,1,1,7,2,7,6,2,3,1,2,5,5,5,1,1,1,9,9,7,2,2,8,5,6,3,6,6,9,8,9,9,4,3,4,6,2,2,2,8,8,7,1,3,4,7,1,1,5,5,6,7,4,6,4,1,3,4,6,6,1,3,9,2,6,8,7,6,7,5,5,9,4,2,4,9,5,9,1,7,7,2,5,3],\"colorscale\":[[0.0,\"blue\"],[0.5,\"red\"],[1.0,\"yellow\"]],\"showscale\":true,\"size\":12},\"mode\":\"markers\",\"x\":[8,91,25,63,87,2,63,25,54,72,6,56,83,4,8,8,94,90,86,5,34,58,77,83,68,80,80,79,33,36,18,1,77,32,45,3,97,99,43,14,6,78,76,43,94,99,56,41,74,30,20,74,26,49,22,82,71,90,35,48,42,10,86,95,7,55,77,90,64,32,93,50,34,19,9,84,98,65,4,44,50,96,76,5,78,27,49,32,20,74,37,5,36,35,93,96,60,55,63,74,25,8,16,22,81,90,7,43,54,34,54,30,73,38,19,24,64,58,9,76,76,63,99,5,92,44,71,76,45,49,3,43,17,53,54,50,29,62,30,97,11,6,18,16,37,56,43,11,91,75,21,50,27,15,21,2,25,99,84,23,11,16,59,46,85,55,82,24,67,36,38,5,99,46,99,42,57,71,79,46,33,24,43,54,49,22,32,4,9,47,76,45,12,95,66,33,14,99,66,90,23,12,95,40,11,80,53,1,88,2,48,38,51,52,62,47,72,72,88,81,45,1,19,34,75,19,3,31,2,31,8,40,57,73,72,61,87,86,8,68,48,75,21,55,44,28,22,64,17,70,80,91,64,10,54,11,28,93,8,36,97,12,7,88,84,83,51,36,61,75,75,16,44,55,61,28,67,6,54,51,77,39,5,1,88,29,49,46,55,18,83,20,77,46,89,3,63,35,29,49,61,93,13,13,32,80,4,9,20,24,10,90,77,36,11,22,68,11,3,62,75,16,19,18,80,45,86,52,99,10,85,59,54,12,68,1,83,52,80,53,14,17,91,45,54,81,17,74,73,19,66,89,95,73,1,23,92,94,52,29,63,8,83,15,80,2,72,47,94,28,39,63,44,90,9,75,73,31,93,27,82,82,30,90,30,72,39,79,26,84,47,14,63,80,67,69,25,97,87,74,21,60,59,91,75,10,91,1,26,87,1,41,60,96,90,92,20,82,28,29,21,67,57,62,51,49,62,31,81,71,3,29,13,37,40,44,70,60,2,50,67,78,2,53,83,81,75,25,82,58,6,57,4,16,34,79,51,27,87,47,40,43,54,42,67,35,54,21,44,43,99,50,16,74,17,84,66,78,58,27,70,86,77,40,95,64,72,8,78,28,94,35,24,52,6,81,74,7,20,82],\"y\":[195,101,165,57,170,170,8,142,52,40,54,24,182,118,17,183,62,9,181,51,51,32,170,62,28,166,176,79,171,92,137,62,103,81,162,40,42,158,151,7,141,64,1,1,78,63,8,165,184,133,149,146,64,169,7,6,150,182,23,130,37,53,76,41,164,182,8,177,98,87,89,56,111,31,82,88,77,108,80,106,61,129,45,137,87,87,75,80,104,57,102,129,196,133,29,27,48,127,99,165,161,35,21,68,134,173,54,195,81,95,32,181,3,171,152,180,189,120,180,124,192,195,134,118,199,124,45,52,122,93,150,82,153,100,111,66,160,66,126,94,80,159,157,66,3,3,29,55,122,102,39,18,54,178,101,104,134,129,151,13,126,172,148,82,2,32,48,81,75,112,107,16,85,133,15,187,129,162,184,134,72,179,104,151,95,196,8,122,151,115,172,127,40,22,46,36,31,171,158,33,156,8,18,170,167,117,166,162,110,56,125,105,164,3,66,32,188,151,174,64,106,7,86,76,103,101,38,133,178,31,113,192,191,82,56,104,41,197,169,101,192,20,25,54,169,44,117,76,13,128,28,137,54,125,154,94,110,97,13,121,11,191,165,84,9,181,22,97,80,189,102,31,79,34,90,20,137,139,29,102,54,53,121,103,183,34,30,142,156,49,168,28,69,127,175,104,130,191,151,125,55,82,196,28,67,46,111,139,29,53,98,104,143,136,161,31,189,198,125,166,9,41,39,30,17,39,81,36,130,90,195,194,111,63,140,65,119,78,110,31,104,1,29,151,14,180,196,51,25,76,87,144,48,109,81,182,60,120,76,2,190,84,110,129,47,7,88,124,1,191,3,89,63,72,45,69,40,47,12,93,154,47,140,146,55,44,93,92,75,165,47,35,169,154,192,109,9,5,27,7,157,31,48,56,84,31,192,196,110,58,73,92,49,198,188,15,81,37,74,194,48,38,179,46,161,42,101,20,82,112,157,182,50,63,119,78,138,33,191,50,77,95,97,191,19,33,69,94,160,97,117,78,77,153,156,165,104,79,41,107,50,108,156,126,138,38,198,3,35,43,148,26,69,162,134,113,14,49,129,58,50,121,125,133,175,147,160,199,198,151,168,152,151,80,199,33,159,98,194,87],\"type\":\"scatter\"}],                        {\"font\":{\"color\":\"Purple\",\"family\":\"Courier New, monospace\",\"size\":12},\"title\":{\"text\":\"Random values in a scatterplot\"},\"xaxis\":{\"title\":{\"text\":\"X Axis Title\"}},\"yaxis\":{\"title\":{\"text\":\"Y Axis Title\"}},\"template\":{\"data\":{\"bar\":[{\"error_x\":{\"color\":\"#2a3f5f\"},\"error_y\":{\"color\":\"#2a3f5f\"},\"marker\":{\"line\":{\"color\":\"#E5ECF6\",\"width\":0.5},\"pattern\":{\"fillmode\":\"overlay\",\"size\":10,\"solidity\":0.2}},\"type\":\"bar\"}],\"barpolar\":[{\"marker\":{\"line\":{\"color\":\"#E5ECF6\",\"width\":0.5},\"pattern\":{\"fillmode\":\"overlay\",\"size\":10,\"solidity\":0.2}},\"type\":\"barpolar\"}],\"carpet\":[{\"aaxis\":{\"endlinecolor\":\"#2a3f5f\",\"gridcolor\":\"white\",\"linecolor\":\"white\",\"minorgridcolor\":\"white\",\"startlinecolor\":\"#2a3f5f\"},\"baxis\":{\"endlinecolor\":\"#2a3f5f\",\"gridcolor\":\"white\",\"linecolor\":\"white\",\"minorgridcolor\":\"white\",\"startlinecolor\":\"#2a3f5f\"},\"type\":\"carpet\"}],\"choropleth\":[{\"colorbar\":{\"outlinewidth\":0,\"ticks\":\"\"},\"type\":\"choropleth\"}],\"contour\":[{\"colorbar\":{\"outlinewidth\":0,\"ticks\":\"\"},\"colorscale\":[[0.0,\"#0d0887\"],[0.1111111111111111,\"#46039f\"],[0.2222222222222222,\"#7201a8\"],[0.3333333333333333,\"#9c179e\"],[0.4444444444444444,\"#bd3786\"],[0.5555555555555556,\"#d8576b\"],[0.6666666666666666,\"#ed7953\"],[0.7777777777777778,\"#fb9f3a\"],[0.8888888888888888,\"#fdca26\"],[1.0,\"#f0f921\"]],\"type\":\"contour\"}],\"contourcarpet\":[{\"colorbar\":{\"outlinewidth\":0,\"ticks\":\"\"},\"type\":\"contourcarpet\"}],\"heatmap\":[{\"colorbar\":{\"outlinewidth\":0,\"ticks\":\"\"},\"colorscale\":[[0.0,\"#0d0887\"],[0.1111111111111111,\"#46039f\"],[0.2222222222222222,\"#7201a8\"],[0.3333333333333333,\"#9c179e\"],[0.4444444444444444,\"#bd3786\"],[0.5555555555555556,\"#d8576b\"],[0.6666666666666666,\"#ed7953\"],[0.7777777777777778,\"#fb9f3a\"],[0.8888888888888888,\"#fdca26\"],[1.0,\"#f0f921\"]],\"type\":\"heatmap\"}],\"heatmapgl\":[{\"colorbar\":{\"outlinewidth\":0,\"ticks\":\"\"},\"colorscale\":[[0.0,\"#0d0887\"],[0.1111111111111111,\"#46039f\"],[0.2222222222222222,\"#7201a8\"],[0.3333333333333333,\"#9c179e\"],[0.4444444444444444,\"#bd3786\"],[0.5555555555555556,\"#d8576b\"],[0.6666666666666666,\"#ed7953\"],[0.7777777777777778,\"#fb9f3a\"],[0.8888888888888888,\"#fdca26\"],[1.0,\"#f0f921\"]],\"type\":\"heatmapgl\"}],\"histogram\":[{\"marker\":{\"pattern\":{\"fillmode\":\"overlay\",\"size\":10,\"solidity\":0.2}},\"type\":\"histogram\"}],\"histogram2d\":[{\"colorbar\":{\"outlinewidth\":0,\"ticks\":\"\"},\"colorscale\":[[0.0,\"#0d0887\"],[0.1111111111111111,\"#46039f\"],[0.2222222222222222,\"#7201a8\"],[0.3333333333333333,\"#9c179e\"],[0.4444444444444444,\"#bd3786\"],[0.5555555555555556,\"#d8576b\"],[0.6666666666666666,\"#ed7953\"],[0.7777777777777778,\"#fb9f3a\"],[0.8888888888888888,\"#fdca26\"],[1.0,\"#f0f921\"]],\"type\":\"histogram2d\"}],\"histogram2dcontour\":[{\"colorbar\":{\"outlinewidth\":0,\"ticks\":\"\"},\"colorscale\":[[0.0,\"#0d0887\"],[0.1111111111111111,\"#46039f\"],[0.2222222222222222,\"#7201a8\"],[0.3333333333333333,\"#9c179e\"],[0.4444444444444444,\"#bd3786\"],[0.5555555555555556,\"#d8576b\"],[0.6666666666666666,\"#ed7953\"],[0.7777777777777778,\"#fb9f3a\"],[0.8888888888888888,\"#fdca26\"],[1.0,\"#f0f921\"]],\"type\":\"histogram2dcontour\"}],\"mesh3d\":[{\"colorbar\":{\"outlinewidth\":0,\"ticks\":\"\"},\"type\":\"mesh3d\"}],\"parcoords\":[{\"line\":{\"colorbar\":{\"outlinewidth\":0,\"ticks\":\"\"}},\"type\":\"parcoords\"}],\"pie\":[{\"automargin\":true,\"type\":\"pie\"}],\"scatter\":[{\"marker\":{\"colorbar\":{\"outlinewidth\":0,\"ticks\":\"\"}},\"type\":\"scatter\"}],\"scatter3d\":[{\"line\":{\"colorbar\":{\"outlinewidth\":0,\"ticks\":\"\"}},\"marker\":{\"colorbar\":{\"outlinewidth\":0,\"ticks\":\"\"}},\"type\":\"scatter3d\"}],\"scattercarpet\":[{\"marker\":{\"colorbar\":{\"outlinewidth\":0,\"ticks\":\"\"}},\"type\":\"scattercarpet\"}],\"scattergeo\":[{\"marker\":{\"colorbar\":{\"outlinewidth\":0,\"ticks\":\"\"}},\"type\":\"scattergeo\"}],\"scattergl\":[{\"marker\":{\"colorbar\":{\"outlinewidth\":0,\"ticks\":\"\"}},\"type\":\"scattergl\"}],\"scattermapbox\":[{\"marker\":{\"colorbar\":{\"outlinewidth\":0,\"ticks\":\"\"}},\"type\":\"scattermapbox\"}],\"scatterpolar\":[{\"marker\":{\"colorbar\":{\"outlinewidth\":0,\"ticks\":\"\"}},\"type\":\"scatterpolar\"}],\"scatterpolargl\":[{\"marker\":{\"colorbar\":{\"outlinewidth\":0,\"ticks\":\"\"}},\"type\":\"scatterpolargl\"}],\"scatterternary\":[{\"marker\":{\"colorbar\":{\"outlinewidth\":0,\"ticks\":\"\"}},\"type\":\"scatterternary\"}],\"surface\":[{\"colorbar\":{\"outlinewidth\":0,\"ticks\":\"\"},\"colorscale\":[[0.0,\"#0d0887\"],[0.1111111111111111,\"#46039f\"],[0.2222222222222222,\"#7201a8\"],[0.3333333333333333,\"#9c179e\"],[0.4444444444444444,\"#bd3786\"],[0.5555555555555556,\"#d8576b\"],[0.6666666666666666,\"#ed7953\"],[0.7777777777777778,\"#fb9f3a\"],[0.8888888888888888,\"#fdca26\"],[1.0,\"#f0f921\"]],\"type\":\"surface\"}],\"table\":[{\"cells\":{\"fill\":{\"color\":\"#EBF0F8\"},\"line\":{\"color\":\"white\"}},\"header\":{\"fill\":{\"color\":\"#C8D4E3\"},\"line\":{\"color\":\"white\"}},\"type\":\"table\"}]},\"layout\":{\"annotationdefaults\":{\"arrowcolor\":\"#2a3f5f\",\"arrowhead\":0,\"arrowwidth\":1},\"autotypenumbers\":\"strict\",\"coloraxis\":{\"colorbar\":{\"outlinewidth\":0,\"ticks\":\"\"}},\"colorscale\":{\"diverging\":[[0,\"#8e0152\"],[0.1,\"#c51b7d\"],[0.2,\"#de77ae\"],[0.3,\"#f1b6da\"],[0.4,\"#fde0ef\"],[0.5,\"#f7f7f7\"],[0.6,\"#e6f5d0\"],[0.7,\"#b8e186\"],[0.8,\"#7fbc41\"],[0.9,\"#4d9221\"],[1,\"#276419\"]],\"sequential\":[[0.0,\"#0d0887\"],[0.1111111111111111,\"#46039f\"],[0.2222222222222222,\"#7201a8\"],[0.3333333333333333,\"#9c179e\"],[0.4444444444444444,\"#bd3786\"],[0.5555555555555556,\"#d8576b\"],[0.6666666666666666,\"#ed7953\"],[0.7777777777777778,\"#fb9f3a\"],[0.8888888888888888,\"#fdca26\"],[1.0,\"#f0f921\"]],\"sequentialminus\":[[0.0,\"#0d0887\"],[0.1111111111111111,\"#46039f\"],[0.2222222222222222,\"#7201a8\"],[0.3333333333333333,\"#9c179e\"],[0.4444444444444444,\"#bd3786\"],[0.5555555555555556,\"#d8576b\"],[0.6666666666666666,\"#ed7953\"],[0.7777777777777778,\"#fb9f3a\"],[0.8888888888888888,\"#fdca26\"],[1.0,\"#f0f921\"]]},\"colorway\":[\"#636efa\",\"#EF553B\",\"#00cc96\",\"#ab63fa\",\"#FFA15A\",\"#19d3f3\",\"#FF6692\",\"#B6E880\",\"#FF97FF\",\"#FECB52\"],\"font\":{\"color\":\"#2a3f5f\"},\"geo\":{\"bgcolor\":\"white\",\"lakecolor\":\"white\",\"landcolor\":\"#E5ECF6\",\"showlakes\":true,\"showland\":true,\"subunitcolor\":\"white\"},\"hoverlabel\":{\"align\":\"left\"},\"hovermode\":\"closest\",\"mapbox\":{\"style\":\"light\"},\"paper_bgcolor\":\"white\",\"plot_bgcolor\":\"#E5ECF6\",\"polar\":{\"angularaxis\":{\"gridcolor\":\"white\",\"linecolor\":\"white\",\"ticks\":\"\"},\"bgcolor\":\"#E5ECF6\",\"radialaxis\":{\"gridcolor\":\"white\",\"linecolor\":\"white\",\"ticks\":\"\"}},\"scene\":{\"xaxis\":{\"backgroundcolor\":\"#E5ECF6\",\"gridcolor\":\"white\",\"gridwidth\":2,\"linecolor\":\"white\",\"showbackground\":true,\"ticks\":\"\",\"zerolinecolor\":\"white\"},\"yaxis\":{\"backgroundcolor\":\"#E5ECF6\",\"gridcolor\":\"white\",\"gridwidth\":2,\"linecolor\":\"white\",\"showbackground\":true,\"ticks\":\"\",\"zerolinecolor\":\"white\"},\"zaxis\":{\"backgroundcolor\":\"#E5ECF6\",\"gridcolor\":\"white\",\"gridwidth\":2,\"linecolor\":\"white\",\"showbackground\":true,\"ticks\":\"\",\"zerolinecolor\":\"white\"}},\"shapedefaults\":{\"line\":{\"color\":\"#2a3f5f\"}},\"ternary\":{\"aaxis\":{\"gridcolor\":\"white\",\"linecolor\":\"white\",\"ticks\":\"\"},\"baxis\":{\"gridcolor\":\"white\",\"linecolor\":\"white\",\"ticks\":\"\"},\"bgcolor\":\"#E5ECF6\",\"caxis\":{\"gridcolor\":\"white\",\"linecolor\":\"white\",\"ticks\":\"\"}},\"title\":{\"x\":0.05},\"xaxis\":{\"automargin\":true,\"gridcolor\":\"white\",\"linecolor\":\"white\",\"ticks\":\"\",\"title\":{\"standoff\":15},\"zerolinecolor\":\"white\",\"zerolinewidth\":2},\"yaxis\":{\"automargin\":true,\"gridcolor\":\"white\",\"linecolor\":\"white\",\"ticks\":\"\",\"title\":{\"standoff\":15},\"zerolinecolor\":\"white\",\"zerolinewidth\":2}}}},                        {\"responsive\": true}                    ).then(function(){\n",
       "                            \n",
       "var gd = document.getElementById('c7e88d91-e987-4892-a46b-59a3d2e06b8d');\n",
       "var x = new MutationObserver(function (mutations, observer) {{\n",
       "        var display = window.getComputedStyle(gd).display;\n",
       "        if (!display || display === 'none') {{\n",
       "            console.log([gd, 'removed!']);\n",
       "            Plotly.purge(gd);\n",
       "            observer.disconnect();\n",
       "        }}\n",
       "}});\n",
       "\n",
       "// Listen for the removal of the full notebook cells\n",
       "var notebookContainer = gd.closest('#notebook-container');\n",
       "if (notebookContainer) {{\n",
       "    x.observe(notebookContainer, {childList: true});\n",
       "}}\n",
       "\n",
       "// Listen for the clearing of the current output cell\n",
       "var outputEl = gd.closest('.output');\n",
       "if (outputEl) {{\n",
       "    x.observe(outputEl, {childList: true});\n",
       "}}\n",
       "\n",
       "                        })                };                });            </script>        </div>"
      ]
     },
     "metadata": {},
     "output_type": "display_data"
    }
   ],
   "source": [
    "# show the figure\n",
    "fig"
   ]
  },
  {
   "cell_type": "code",
   "execution_count": 113,
   "id": "DutV5Fglm1FP",
   "metadata": {
    "executionInfo": {
     "elapsed": 7,
     "status": "ok",
     "timestamp": 1636594241018,
     "user": {
      "displayName": "Austin Lasseter",
      "photoUrl": "https://lh3.googleusercontent.com/a/default-user=s64",
      "userId": "15508614330588139795"
     },
     "user_tz": 300
    },
    "id": "DutV5Fglm1FP"
   },
   "outputs": [],
   "source": [
    "# save the figure as html\n",
    "fig.write_html(\"scatter_chart.html\")"
   ]
  }
 ],
 "metadata": {
  "colab": {
   "name": "01. Notebook 2: generate-html.ipynb",
   "provenance": []
  },
  "kernelspec": {
   "display_name": "Python 3 (ipykernel)",
   "language": "python",
   "name": "python3"
  },
  "language_info": {
   "codemirror_mode": {
    "name": "ipython",
    "version": 3
   },
   "file_extension": ".py",
   "mimetype": "text/x-python",
   "name": "python",
   "nbconvert_exporter": "python",
   "pygments_lexer": "ipython3",
   "version": "3.9.7"
  }
 },
 "nbformat": 4,
 "nbformat_minor": 5
}
