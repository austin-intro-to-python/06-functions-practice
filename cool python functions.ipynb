{
 "cells": [
  {
   "cell_type": "code",
   "execution_count": null,
   "metadata": {},
   "outputs": [],
   "source": []
  },
  {
   "cell_type": "markdown",
   "metadata": {},
   "source": [
    "## Make a pyramid"
   ]
  },
  {
   "cell_type": "code",
   "execution_count": 13,
   "metadata": {},
   "outputs": [
    {
     "name": "stdout",
     "output_type": "stream",
     "text": [
      "1 2 3 4 5 6 7 8 9\n"
     ]
    }
   ],
   "source": [
    "row_num = 10\n",
    "print(' '.join(' ' if index_num > row_num else str(index_num) for index_num in range (1, 10)))"
   ]
  },
  {
   "cell_type": "code",
   "execution_count": 15,
   "metadata": {},
   "outputs": [
    {
     "name": "stdout",
     "output_type": "stream",
     "text": [
      "  9 8 7 6 5 4 3 2\n"
     ]
    }
   ],
   "source": [
    "row_num = 9\n",
    "print(' '.join(' ' if index_num > row_num else str(index_num) for index_num in range (10, 1, -1)))"
   ]
  },
  {
   "cell_type": "code",
   "execution_count": 4,
   "metadata": {},
   "outputs": [
    {
     "name": "stdout",
     "output_type": "stream",
     "text": [
      "                  1                \n",
      "                2 1 2              \n",
      "              3 2 1 2 3            \n",
      "            4 3 2 1 2 3 4          \n",
      "          5 4 3 2 1 2 3 4 5        \n",
      "        6 5 4 3 2 1 2 3 4 5 6      \n",
      "      7 6 5 4 3 2 1 2 3 4 5 6 7    \n",
      "    8 7 6 5 4 3 2 1 2 3 4 5 6 7 8  \n",
      "  9 8 7 6 5 4 3 2 1 2 3 4 5 6 7 8 9\n"
     ]
    }
   ],
   "source": [
    "for row_num in range(1,10):\n",
    "    print(' '.join(' ' if index_num > row_num else str(index_num)  for index_num in range (10, 1, -1)),\n",
    "          ' '.join(' ' if index_num > row_num else str(index_num) for index_num in range(1,10) ))"
   ]
  },
  {
   "cell_type": "markdown",
   "metadata": {},
   "source": [
    "## Palindrome maker"
   ]
  },
  {
   "cell_type": "code",
   "execution_count": 16,
   "metadata": {},
   "outputs": [
    {
     "name": "stdout",
     "output_type": "stream",
     "text": [
      "this\n",
      "siht\n"
     ]
    }
   ],
   "source": [
    "x = input()\n",
    "print(x[::-1])"
   ]
  },
  {
   "cell_type": "markdown",
   "metadata": {},
   "source": [
    "## Antigravity"
   ]
  },
  {
   "cell_type": "code",
   "execution_count": null,
   "metadata": {},
   "outputs": [],
   "source": [
    "import antigravity"
   ]
  }
 ],
 "metadata": {
  "kernelspec": {
   "display_name": "Python 3",
   "language": "python",
   "name": "python3"
  },
  "language_info": {
   "codemirror_mode": {
    "name": "ipython",
    "version": 3
   },
   "file_extension": ".py",
   "mimetype": "text/x-python",
   "name": "python",
   "nbconvert_exporter": "python",
   "pygments_lexer": "ipython3",
   "version": "3.7.3"
  }
 },
 "nbformat": 4,
 "nbformat_minor": 2
}
